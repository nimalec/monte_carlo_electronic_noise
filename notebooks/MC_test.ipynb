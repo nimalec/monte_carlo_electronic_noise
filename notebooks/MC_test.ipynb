{
 "cells": [
  {
   "cell_type": "code",
   "execution_count": 104,
   "metadata": {},
   "outputs": [],
   "source": [
    "import numpy as np\n",
    "import scipy as sp \n",
    "import matplotlib.pyplot as plt \n",
    "from mpl_toolkits.mplot3d import Axes3D\n",
    "import matplotlib.cm as cm\n",
    "\n",
    "## Constants \n",
    "hbar = 1.05*(10**(-34))\n",
    "pi = 3.14159 \n",
    "c = 3*(10**(8))\n",
    "kb = 8.617*(10**(-5))\n",
    "kb_SI = 1.38*(10**(-23))\n",
    "qe = 1.6*(10**(-19)) \n",
    "eps0 = 8.85*(10**(-12))  \n",
    "m0 = 9*(10**(-31)) \n",
    "a_lat = 3.1*(10**(-10)) \n",
    "eV2meter = 1.97*(10**(-7)) ##in meter\n",
    "eV2sec = 6.58*(10**(-16))\n",
    "eV2mass = 1.78*(10**(-36))\n",
    "\n",
    "\n",
    "# Transport physics \n",
    "def get_fermi_circle(k_rad, nk, nthet):##ok \n",
    "    ##Input: radius of 2D Fermi circle (float), size of k array (int), size of theta array (int)\n",
    "    ##Output: grid of k points in Fermi circle (array)\n",
    "    kx_list = []\n",
    "    ky_list = []\n",
    "    k_range = np.linspace(0 ,k_rad, int(nk))\n",
    "    thet_range = np.linspace(0, 2*pi, int(nthet))  \n",
    "    for i in range(0,nk):\n",
    "        for j in range(0,nthet): \n",
    "            kx_list.append(k_range[i]*np.cos(thet_range[j]))\n",
    "            ky_list.append(k_range[i]*np.sin(thet_range[j]))\n",
    "    return [np.asarray(kx_list), np.asarray(ky_list)]  \n",
    "\n",
    "#def get_2DEG_density(Vg, del_Ec, eps, d_del, ): \n",
    "    \n",
    "\n",
    "def get_bose_distribution(energy, T):## ok \n",
    "    return (np.exp(energy/(kb_SI*T))-1)**(-1)    \n",
    "\n",
    "#def get_fermi_level( ):\n",
    "\n",
    "#def get_fermi_vector( ): \n",
    "\n",
    "\n",
    "\n",
    "def get_conduction_band(Ec, mstar, k_vec): ##ok \n",
    "    ##Input: Conduction band offset (float), effective mass (float), k_point to evaluate at (array)\n",
    "    ##Output: kmesh (array), conduction band (array)\n",
    "    Ek = lambda Ec, mstar, kx, ky: Ec + ((hbar**2)/(2*mstar*m0))*(kx**(2) + ky**(2)) \n",
    "    return Ek(Ec, mstar, k_vec[0], k_vec[1]) \n",
    "\n",
    "def get_group_velocity(mstar, kvec): ##ok \n",
    "    ##Input: Conduction band offset (float), effective mass (float),  k_point to evaluate at (array)\n",
    "    ##Output: kmesh (array), conduction band (array)\n",
    "    vg = lambda mstar, kvec: [((hbar**(2))/(mstar*m0))*kvec[0], ((hbar**(2))/(mstar*m0))*kvec[1]]\n",
    "    return np.asarray(vg(mstar, k_vec)) \n",
    "\n",
    "## runMC requires input: specify k mesh, number of electrons, preferred start, and applied field\n",
    "def evolvek_h(del_t, E_field, k0): ##ok \n",
    "    del_k = (qe*del_t*E_field)/hbar \n",
    "    return k0 + del_k\n",
    "\n",
    "def compute_rate_prob_AP(k0, kf, mstar, vs, T):  \n",
    "    ##Computes probability of transition from k0 to kf at temperature T for acoustic phonon scattering\n",
    "    ##Input: inital k state k0 [m**(-1)] final k state kf [m**(-1)], effective mass mstar [m0], sound velocity vs [m/s], temperature T[K]\n",
    "    ##Output: pseudo-probability of transition \n",
    "    \n",
    "    E0 = get_conduction_band(0, mstar, k0) \n",
    "    Ef = get_conduction_band(0, mstar, kf) \n",
    "    delE = Ef-E0\n",
    "\n",
    "    q = np.linalg.norm(k0-kf)\n",
    "    energ_ph  = hbar*q*vs \n",
    "    nq = get_bose_distribution(energ_ph, T)\n",
    "    \n",
    "    if(delE > 0): \n",
    "        prob = (q*nq)/(0.2*energ_ph)  \n",
    "        \n",
    "    elif(delE < 0):\n",
    "        prob = (q*(nq+1))/(0.2*energ_ph) \n",
    "    \n",
    "    else: \n",
    "        prob = 0   \n",
    " \n",
    "    return prob \n",
    "\n",
    "def compute_rate_prob_POP(k0, kf, mstar, energ_ph,T):  \n",
    "    ##Computes probability of transition from k0 to kf at temperature \n",
    "    ##Input: inital k state k0  [m**(-1)], final k state kf  [m**(-1)],  effective mass mstar [m0], energy of polar optical phonon [eV] \n",
    "    ##Output: pseudo-probability of transition\n",
    "    \n",
    "    E0 = get_conduction_band(0, mstar, k0) \n",
    "    Ef = get_conduction_band(0, mstar, kf) \n",
    "    delE = (Ef-E0)*(1/qe)\n",
    "    q = np.linalg.norm(k0-kf)\n",
    "    nq = get_bose_distribution(energ_ph*qe, T)\n",
    "\n",
    "    if(abs(delE) < energ_ph):\n",
    "        if(delE > 0): \n",
    "            prob = ((q**2)*nq)/(0.2*energ_ph)  \n",
    "                \n",
    "        elif(delE < 0):\n",
    "            prob = ((q**2)*(nq+1))\n",
    "        else: \n",
    "            prob = 0  \n",
    "    else: \n",
    "        prob = 0 \n",
    "    \n",
    "    return prob \n",
    " \n",
    "\n",
    "def scatter_prob_h(k0, kmesh, mstar, T, phonon_typ, vs = 0, energ_POP = 0):\n",
    "    ##Computes transition probability matrix at temeprature T\n",
    "    ##Input: inital k state k0  [m**(-1)], kmesh  [m**(-1)],  effective mass mstar [m0], temperature [K], phonon type [1 if acoustic, 0 if POP], energy of polar optical phonon [eV] \n",
    "    ##Output: pseudo-probability of transition\n",
    "    assert phonon_typ == 1 or phonon_typ == 0, \"phonon_typ should be 1 or 0\"\n",
    "    if(phonon_typ == 1): \n",
    "        prob_fun = lambda k0, kf: compute_rate_prob_AP(k0, kf, mstar, vs, T)    \n",
    "    else: \n",
    "        prob_fun = lambda k0, kf: compute_rate_prob_POP(k0, kf, mstar, energ_POP,T)            \n",
    "\n",
    "    rate_list = np.array([prob_fun(k0, np.array([kmesh[0][i], kmesh[1][i]])) for i in range(len(kmesh[0]))])\n",
    "    rate_list_not_nan = [] \n",
    "    kx_list_not_nan = [] \n",
    "    ky_list_not_nan = [] \n",
    "    for i in range(len(rate_list)):\n",
    "        if(np.isnan(rate_list[i]) == False):\n",
    "            rate_list_not_nan.append(rate_list[i])\n",
    "            kx_list_not_nan.append(kmesh[0][i])\n",
    "            ky_list_not_nan.append(kmesh[1][i])   \n",
    "    \n",
    "    return [np.array(kx_list_not_nan), np.array(ky_list_not_nan), np.array(rate_list_not_nan)/np.sum(np.array(rate_list_not_nan))]\n",
    " "
   ]
  },
  {
   "cell_type": "code",
   "execution_count": 105,
   "metadata": {},
   "outputs": [],
   "source": [
    "a_lat = 3.0*10**(-9)\n",
    "del_t = 10**(-15)\n",
    "k_pts_test = get_fermi_circle(2*pi/a_lat, 100, 100)\n",
    "k_evolv_x =  [] \n",
    "k_evolv_y =  [] \n",
    "E_field = np.array([10**(7), 0])\n",
    "k0 = np.array([0,0])\n",
    "\n",
    "for i in range(0,100): \n",
    "    kf = evolvek_h(del_t, E_field, k0)\n",
    "    k_evolv_x.append(kf[0])\n",
    "    k_evolv_y.append(kf[1])\n",
    "    k0 = kf \n",
    "k_evolv = [k_evolv_x, k_evolv_y]"
   ]
  },
  {
   "cell_type": "code",
   "execution_count": 106,
   "metadata": {
    "scrolled": true
   },
   "outputs": [
    {
     "data": {
      "text/plain": [
       "<matplotlib.collections.PathCollection at 0x11f7d9290>"
      ]
     },
     "execution_count": 106,
     "metadata": {},
     "output_type": "execute_result"
    },
    {
     "data": {
      "image/png": "[encoded data removed]",
      "text/plain": [
       "<Figure size 432x288 with 1 Axes>"
      ]
     },
     "metadata": {
      "needs_background": "light"
     },
     "output_type": "display_data"
    }
   ],
   "source": [
    "fig = plt.figure()\n",
    "plt.scatter(k_pts_test[0], k_pts_test[1],c=\"b\")\n",
    "plt.scatter(k_evolv[0], k_evolv[1],c=\"r\")"
   ]
  },
  {
   "cell_type": "code",
   "execution_count": 107,
   "metadata": {
    "scrolled": true
   },
   "outputs": [
    {
     "data": {
      "image/png": "[encoded data removed]",
      "text/plain": [
       "<Figure size 432x288 with 2 Axes>"
      ]
     },
     "metadata": {
      "needs_background": "light"
     },
     "output_type": "display_data"
    }
   ],
   "source": [
    "cgrid = plt.cm.get_cmap('Reds')\n",
    "fig4 = plt.figure()\n",
    "sc = plt.scatter(prob[0], prob[1], c=prob[2],vmin=0, vmax= np.max(prob[2]), cmap=cgrid)\n",
    "plt.colorbar(sc, label = 'Scattering probability [a.u.]')\n",
    "plt.title(\"2DEG scattering Probability from $\\Gamma$ w/ AP at 300 K\")\n",
    "plt.xlabel(\"$\\mathbf{q_{x}}$ $[\\AA^{-1}]$\")\n",
    "plt.ylabel(\"$\\mathbf{q_{y}} $ $[\\AA^{-1}]$\")\n",
    "plt.show()"
   ]
  },
  {
   "cell_type": "code",
   "execution_count": 102,
   "metadata": {},
   "outputs": [
    {
     "ename": "NameError",
     "evalue": "name 'scatterPOP_prob_h' is not defined",
     "output_type": "error",
     "traceback": [
      "\u001b[0;31m---------------------------------------------------------------------------\u001b[0m",
      "\u001b[0;31mNameError\u001b[0m                                 Traceback (most recent call last)",
      "\u001b[0;32m<ipython-input-102-1561a56f32e7>\u001b[0m in \u001b[0;36m<module>\u001b[0;34m\u001b[0m\n\u001b[0;32m----> 1\u001b[0;31m \u001b[0mtst_pop\u001b[0m \u001b[0;34m=\u001b[0m \u001b[0mscatterPOP_prob_h\u001b[0m\u001b[0;34m(\u001b[0m\u001b[0mnp\u001b[0m\u001b[0;34m.\u001b[0m\u001b[0marray\u001b[0m\u001b[0;34m(\u001b[0m\u001b[0;34m[\u001b[0m\u001b[0;36m0\u001b[0m\u001b[0;34m,\u001b[0m\u001b[0;36m0\u001b[0m\u001b[0;34m]\u001b[0m\u001b[0;34m)\u001b[0m\u001b[0;34m,\u001b[0m \u001b[0mk_pts_test\u001b[0m\u001b[0;34m,\u001b[0m \u001b[0;36m0.2\u001b[0m\u001b[0;34m,\u001b[0m \u001b[0;36m0.2\u001b[0m\u001b[0;34m)\u001b[0m\u001b[0;34m\u001b[0m\u001b[0;34m\u001b[0m\u001b[0m\n\u001b[0m\u001b[1;32m      2\u001b[0m \u001b[0msc\u001b[0m \u001b[0;34m=\u001b[0m \u001b[0mplt\u001b[0m\u001b[0;34m.\u001b[0m\u001b[0mscatter\u001b[0m\u001b[0;34m(\u001b[0m\u001b[0mtst_pop\u001b[0m\u001b[0;34m[\u001b[0m\u001b[0;36m0\u001b[0m\u001b[0;34m]\u001b[0m\u001b[0;34m,\u001b[0m \u001b[0mtst_pop\u001b[0m\u001b[0;34m[\u001b[0m\u001b[0;36m1\u001b[0m\u001b[0;34m]\u001b[0m\u001b[0;34m,\u001b[0m \u001b[0mc\u001b[0m\u001b[0;34m=\u001b[0m\u001b[0mtst_pop\u001b[0m\u001b[0;34m[\u001b[0m\u001b[0;36m2\u001b[0m\u001b[0;34m]\u001b[0m\u001b[0;34m,\u001b[0m\u001b[0mvmin\u001b[0m\u001b[0;34m=\u001b[0m\u001b[0;36m0\u001b[0m\u001b[0;34m,\u001b[0m \u001b[0mvmax\u001b[0m\u001b[0;34m=\u001b[0m \u001b[0mnp\u001b[0m\u001b[0;34m.\u001b[0m\u001b[0mmax\u001b[0m\u001b[0;34m(\u001b[0m\u001b[0mtst_pop\u001b[0m\u001b[0;34m[\u001b[0m\u001b[0;36m2\u001b[0m\u001b[0;34m]\u001b[0m\u001b[0;34m)\u001b[0m\u001b[0;34m,\u001b[0m\u001b[0ms\u001b[0m \u001b[0;34m=\u001b[0m\u001b[0mlen\u001b[0m\u001b[0;34m(\u001b[0m\u001b[0mtst_pop\u001b[0m\u001b[0;34m[\u001b[0m\u001b[0;36m2\u001b[0m\u001b[0;34m]\u001b[0m\u001b[0;34m)\u001b[0m\u001b[0;34m,\u001b[0m \u001b[0mcmap\u001b[0m\u001b[0;34m=\u001b[0m\u001b[0mcgrid\u001b[0m\u001b[0;34m)\u001b[0m\u001b[0;34m\u001b[0m\u001b[0;34m\u001b[0m\u001b[0m\n\u001b[1;32m      3\u001b[0m \u001b[0mplt\u001b[0m\u001b[0;34m.\u001b[0m\u001b[0mcolorbar\u001b[0m\u001b[0;34m(\u001b[0m\u001b[0msc\u001b[0m\u001b[0;34m,\u001b[0m \u001b[0mlabel\u001b[0m \u001b[0;34m=\u001b[0m \u001b[0;34m'Scattering probability [a.u.]'\u001b[0m\u001b[0;34m)\u001b[0m\u001b[0;34m\u001b[0m\u001b[0;34m\u001b[0m\u001b[0m\n\u001b[1;32m      4\u001b[0m \u001b[0mplt\u001b[0m\u001b[0;34m.\u001b[0m\u001b[0mtitle\u001b[0m\u001b[0;34m(\u001b[0m\u001b[0;34m\"2DEG scattering Probability from $\\Gamma$ w/ POP at 300 K\"\u001b[0m\u001b[0;34m)\u001b[0m\u001b[0;34m\u001b[0m\u001b[0;34m\u001b[0m\u001b[0m\n\u001b[1;32m      5\u001b[0m \u001b[0mplt\u001b[0m\u001b[0;34m.\u001b[0m\u001b[0mxlabel\u001b[0m\u001b[0;34m(\u001b[0m\u001b[0;34m\"$\\mathbf{q_{x}}$ $[\\AA^{-1}]$\"\u001b[0m\u001b[0;34m)\u001b[0m\u001b[0;34m\u001b[0m\u001b[0;34m\u001b[0m\u001b[0m\n",
      "\u001b[0;31mNameError\u001b[0m: name 'scatterPOP_prob_h' is not defined"
     ]
    }
   ],
   "source": [
    "tst_pop = scatterPOP_prob_h(np.array([0,0]), k_pts_test, 0.2, 0.2)\n",
    "sc = plt.scatter(tst_pop[0], tst_pop[1], c=tst_pop[2],vmin=0, vmax= np.max(tst_pop[2]),s =len(tst_pop[2]), cmap=cgrid)\n",
    "plt.colorbar(sc, label = 'Scattering probability [a.u.]')\n",
    "plt.title(\"2DEG scattering Probability from $\\Gamma$ w/ POP at 300 K\")\n",
    "plt.xlabel(\"$\\mathbf{q_{x}}$ $[\\AA^{-1}]$\")\n",
    "plt.ylabel(\"$\\mathbf{q_{y}} $ $[\\AA^{-1}]$\")\n",
    "plt.show()"
   ]
  },
  {
   "cell_type": "code",
   "execution_count": 63,
   "metadata": {},
   "outputs": [
    {
     "data": {
      "text/plain": [
       "0.002772485967125992"
      ]
     },
     "execution_count": 63,
     "metadata": {},
     "output_type": "execute_result"
    }
   ],
   "source": [
    "np.max(prob[2])"
   ]
  },
  {
   "cell_type": "code",
   "execution_count": 5,
   "metadata": {},
   "outputs": [],
   "source": [
    "a = 1 \n",
    "assert a == 1 or a == 0, \"x should be 2\""
   ]
  },
  {
   "cell_type": "code",
   "execution_count": 71,
   "metadata": {},
   "outputs": [
    {
     "data": {
      "text/plain": [
       "[<matplotlib.lines.Line2D at 0x11f6e3e90>]"
      ]
     },
     "execution_count": 71,
     "metadata": {},
     "output_type": "execute_result"
    },
    {
     "data": {
      "image/png": "[encoded data removed]",
      "text/plain": [
       "<Figure size 432x288 with 1 Axes>"
      ]
     },
     "metadata": {
      "needs_background": "light"
     },
     "output_type": "display_data"
    }
   ],
   "source": [
    "plt.plot(prob[0],prob[2])"
   ]
  },
  {
   "cell_type": "code",
   "execution_count": null,
   "metadata": {},
   "outputs": [],
   "source": []
  }
 ],
 "metadata": {
  "kernelspec": {
   "display_name": "Python 3",
   "language": "python",
   "name": "python3"
  },
  "language_info": {
   "codemirror_mode": {
    "name": "ipython",
    "version": 3
   },
   "file_extension": ".py",
   "mimetype": "text/x-python",
   "name": "python",
   "nbconvert_exporter": "python",
   "pygments_lexer": "ipython3",
   "version": "3.7.6"
  }
 },
 "nbformat": 4,
 "nbformat_minor": 4
}
